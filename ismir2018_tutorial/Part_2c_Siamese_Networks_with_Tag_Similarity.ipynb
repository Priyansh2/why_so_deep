{
 "cells": [
  {
   "cell_type": "markdown",
   "metadata": {},
   "source": [
    "# Finding Similar Songs on Spotify - Part 3 - Siamese Networks with Tag Similarity\n",
    "\n",
    "In this tutorial I will demonstrate how to apply machine learning to search for similar songs on Spotify.\n",
    "\n",
    "## Tutorial Overview\n",
    "\n",
    "1. Loading data\n",
    "2. Preprocess data\n",
    "3. Define Model\n",
    "4. Fit Model\n",
    "5. Evaluate Model\n",
    "\n"
   ]
  },
  {
   "cell_type": "markdown",
   "metadata": {},
   "source": [
    "## Requiremnts\n",
    "\n",
    "Install the following dependencies to run this tutorial:"
   ]
  },
  {
   "cell_type": "code",
   "execution_count": 1,
   "metadata": {},
   "outputs": [],
   "source": [
    "import os\n",
    "os.environ[\"CUDA_VISIBLE_DEVICES\"] = \"0\"\n",
    "\n",
    "import tensorflow as tf"
   ]
  },
  {
   "cell_type": "code",
   "execution_count": 2,
   "metadata": {
    "ExecuteTime": {
     "end_time": "2017-08-24T10:20:32.488000Z",
     "start_time": "2017-08-24T10:20:32.483000Z"
    }
   },
   "outputs": [],
   "source": [
    "# visualization\n",
    "%matplotlib inline\n",
    "\n",
    "import matplotlib\n",
    "import matplotlib.pyplot as plt\n",
    "matplotlib.style.use('ggplot')\n",
    "\n",
    "# numeric and scientific processing\n",
    "import numpy as np\n",
    "import pandas as pd\n",
    "\n",
    "from scipy.spatial.distance import dice, pdist, squareform\n",
    "\n",
    "# misc\n",
    "import os\n",
    "import progressbar\n",
    "\n",
    "from IPython.display import HTML, display\n",
    "\n",
    "pd.set_option('display.max_colwidth', -1)"
   ]
  },
  {
   "cell_type": "markdown",
   "metadata": {},
   "source": [
    "# Loading Data\n",
    "\n",
    "Before we can train our models we first have to get some data."
   ]
  },
  {
   "cell_type": "code",
   "execution_count": 3,
   "metadata": {},
   "outputs": [],
   "source": [
    "DATASET_PATH    = \"D:/Research/Data/MIR/MagnaTagATune/ISMIR2018\""
   ]
  },
  {
   "cell_type": "markdown",
   "metadata": {},
   "source": [
    "## Load Feature Data\n",
    "\n",
    "load feature data from numpy pickle"
   ]
  },
  {
   "cell_type": "code",
   "execution_count": 4,
   "metadata": {},
   "outputs": [
    {
     "data": {
      "text/plain": [
       "(6380, 80, 80)"
      ]
     },
     "execution_count": 4,
     "metadata": {},
     "output_type": "execute_result"
    }
   ],
   "source": [
    "with np.load(\"%s/ISMIR2018_tut_Magnagtagatune_spectrograms.npz\" % DATASET_PATH) as npz:\n",
    "    melspecs      = npz[\"features\"]\n",
    "    clip_id       = npz[\"clip_id\"]\n",
    "    \n",
    "melspecs.shape"
   ]
  },
  {
   "cell_type": "markdown",
   "metadata": {},
   "source": [
    "prepare feature-metadata for alignment with dataset meta-data"
   ]
  },
  {
   "cell_type": "code",
   "execution_count": 5,
   "metadata": {},
   "outputs": [],
   "source": [
    "feature_metadata = pd.DataFrame({\"featurespace_id\": np.arange(melspecs.shape[0]), \n",
    "                                 \"clip_id\"        : clip_id})"
   ]
  },
  {
   "cell_type": "markdown",
   "metadata": {},
   "source": [
    "## Load Metadata\n",
    "\n",
    "load meta-data from csv-file."
   ]
  },
  {
   "cell_type": "code",
   "execution_count": 6,
   "metadata": {},
   "outputs": [],
   "source": [
    "metadata = pd.read_csv(\"./metadata/ismir2018_tut_part_3_similartiy_metadata.csv\", index_col=0)"
   ]
  },
  {
   "cell_type": "markdown",
   "metadata": {},
   "source": [
    "Align featuredata with metadata"
   ]
  },
  {
   "cell_type": "code",
   "execution_count": 7,
   "metadata": {},
   "outputs": [],
   "source": [
    "metadata = metadata.reset_index()\n",
    "metadata = metadata.merge(feature_metadata, left_on=\"clip_id\", right_on=\"clip_id\", how=\"inner\", left_index=True, right_index=False)\n",
    "metadata = metadata.set_index(\"index\")"
   ]
  },
  {
   "cell_type": "markdown",
   "metadata": {},
   "source": [
    "Add HTML5 audio player component for listening to similarity retrieval results"
   ]
  },
  {
   "cell_type": "code",
   "execution_count": 8,
   "metadata": {},
   "outputs": [],
   "source": [
    "tmp                = metadata.mp3_path.str.split(\"/\", expand=True)\n",
    "metadata[\"player\"] = '<audio src=\"http://localhost:9999/' + tmp[6] + '/' + tmp[7] +'\" controls>'"
   ]
  },
  {
   "cell_type": "markdown",
   "metadata": {},
   "source": [
    "## Load Labels\n",
    "\n",
    "Load labels from csv-file"
   ]
  },
  {
   "cell_type": "code",
   "execution_count": 9,
   "metadata": {},
   "outputs": [
    {
     "data": {
      "text/plain": [
       "(2943, 135)"
      ]
     },
     "execution_count": 9,
     "metadata": {},
     "output_type": "execute_result"
    }
   ],
   "source": [
    "labels = pd.read_csv(\"./metadata/ismir2018_tut_part_3_similarity_labels.csv\", index_col=0)\n",
    "\n",
    "labels.shape"
   ]
  },
  {
   "cell_type": "markdown",
   "metadata": {},
   "source": [
    "## Align Meta-data and Feature-data\n",
    "\n",
    "Sort Metadata by Feature-space ID => metadata is aligned to feature-data"
   ]
  },
  {
   "cell_type": "code",
   "execution_count": 10,
   "metadata": {},
   "outputs": [],
   "source": [
    "metadata.sort_values(\"featurespace_id\", inplace=True)\n",
    "\n",
    "# subsample feature-space\n",
    "melspecs = melspecs[metadata.featurespace_id].astype(np.float32)\n",
    "\n",
    "# re-enumerate sub-sampled feature-space (alignment)\n",
    "metadata[\"featurespace_id\"] = np.arange(metadata.shape[0])\n",
    "\n",
    "# align labels\n",
    "labels = labels.loc[metadata.index]"
   ]
  },
  {
   "cell_type": "markdown",
   "metadata": {},
   "source": [
    "Add the layer-dimension to the feature-space (required by the convolutional neural networks. Only one layer added => mono-channel audio)"
   ]
  },
  {
   "cell_type": "code",
   "execution_count": 11,
   "metadata": {},
   "outputs": [],
   "source": [
    "melspecs = np.expand_dims(melspecs, 3)"
   ]
  },
  {
   "cell_type": "markdown",
   "metadata": {},
   "source": [
    "# Tag Similarities\n",
    "\n",
    "Tag similarity refers to the semantic relationship between two labels. In the context of this tutorial we are talking about genre labels. These are provided by the Spotify API for each artist. This is not as precise as for each track, but we take what we get. We still need to consider that an artist might change its artistic orientation which means he can cross or change its genre or on the other hand, the genre can change itself (e.g. Rhythm and Blues). Most of all, we should keep in mind that the concept of music genre is highly subjective and its interpretation might vary between the annotators who labelled the provided tracks.\n",
    "\n",
    "So this is how the labels look like:"
   ]
  },
  {
   "cell_type": "code",
   "execution_count": 12,
   "metadata": {},
   "outputs": [
    {
     "data": {
      "text/html": [
       "<div>\n",
       "<style scoped>\n",
       "    .dataframe tbody tr th:only-of-type {\n",
       "        vertical-align: middle;\n",
       "    }\n",
       "\n",
       "    .dataframe tbody tr th {\n",
       "        vertical-align: top;\n",
       "    }\n",
       "\n",
       "    .dataframe thead th {\n",
       "        text-align: right;\n",
       "    }\n",
       "</style>\n",
       "<table border=\"1\" class=\"dataframe\">\n",
       "  <thead>\n",
       "    <tr style=\"text-align: right;\">\n",
       "      <th></th>\n",
       "      <th>clip_id</th>\n",
       "      <th>mp3_path</th>\n",
       "      <th>track_number</th>\n",
       "      <th>title</th>\n",
       "      <th>artist</th>\n",
       "      <th>album</th>\n",
       "      <th>url</th>\n",
       "      <th>segmentStart</th>\n",
       "      <th>segmentEnd</th>\n",
       "      <th>original_url</th>\n",
       "      <th>featurespace_id</th>\n",
       "      <th>player</th>\n",
       "    </tr>\n",
       "    <tr>\n",
       "      <th>index</th>\n",
       "      <th></th>\n",
       "      <th></th>\n",
       "      <th></th>\n",
       "      <th></th>\n",
       "      <th></th>\n",
       "      <th></th>\n",
       "      <th></th>\n",
       "      <th></th>\n",
       "      <th></th>\n",
       "      <th></th>\n",
       "      <th></th>\n",
       "      <th></th>\n",
       "    </tr>\n",
       "  </thead>\n",
       "  <tbody>\n",
       "    <tr>\n",
       "      <th>29</th>\n",
       "      <td>66</td>\n",
       "      <td>D:/Research/Data/MIR/MagnaTagATune/mp3_full/9/american_bach_soloists-heinrich_schutz__musicalische_exequien-01-musicalische_exequien_swv_279_teil_i_concert_in_form_einer_teutschen_begrabnismissa-784-813.mp3</td>\n",
       "      <td>1</td>\n",
       "      <td>Musicalische Exequien SWV 279 Teil I_ Concert in Form einer teutschen Begrabnis-Missa</td>\n",
       "      <td>American Bach Soloists</td>\n",
       "      <td>Heinrich Schutz - Musicalische Exequien</td>\n",
       "      <td>http://www.magnatune.com/artists/albums/abs-heinrich/</td>\n",
       "      <td>784</td>\n",
       "      <td>813</td>\n",
       "      <td>http://he3.magnatune.com/all/01--Musicalische%20Exequien%20SWV%20279%20Teil%20I_%20Concert%20in%20Form%20einer%20teutschen%20Begrabnis-Missa--ABS.mp3</td>\n",
       "      <td>0</td>\n",
       "      <td>&lt;audio src=\"http://localhost:9999/9/american_bach_soloists-heinrich_schutz__musicalische_exequien-01-musicalische_exequien_swv_279_teil_i_concert_in_form_einer_teutschen_begrabnismissa-784-813.mp3\" controls&gt;</td>\n",
       "    </tr>\n",
       "    <tr>\n",
       "      <th>43</th>\n",
       "      <td>90</td>\n",
       "      <td>D:/Research/Data/MIR/MagnaTagATune/mp3_full/6/ralph_meulenbroeks-gambomania-01-my_mistress_hath_a_pritty_thing_tobias_hume-59-88.mp3</td>\n",
       "      <td>1</td>\n",
       "      <td>My mistress hath a pritty thing (Tobias Hume)</td>\n",
       "      <td>Ralph Meulenbroeks</td>\n",
       "      <td>Gambomania</td>\n",
       "      <td>http://www.magnatune.com/artists/albums/meulenbroeks-gambomania/</td>\n",
       "      <td>59</td>\n",
       "      <td>88</td>\n",
       "      <td>http://he3.magnatune.com/all/01--My%20mistress%20hath%20a%20pritty%20thing%20(Tobias%20Hume)--Ralph%20Meulenbroeks.mp3</td>\n",
       "      <td>1</td>\n",
       "      <td>&lt;audio src=\"http://localhost:9999/6/ralph_meulenbroeks-gambomania-01-my_mistress_hath_a_pritty_thing_tobias_hume-59-88.mp3\" controls&gt;</td>\n",
       "    </tr>\n",
       "    <tr>\n",
       "      <th>44</th>\n",
       "      <td>91</td>\n",
       "      <td>D:/Research/Data/MIR/MagnaTagATune/mp3_full/6/ralph_meulenbroeks-gambomania-01-my_mistress_hath_a_pritty_thing_tobias_hume-88-117.mp3</td>\n",
       "      <td>1</td>\n",
       "      <td>My mistress hath a pritty thing (Tobias Hume)</td>\n",
       "      <td>Ralph Meulenbroeks</td>\n",
       "      <td>Gambomania</td>\n",
       "      <td>http://www.magnatune.com/artists/albums/meulenbroeks-gambomania/</td>\n",
       "      <td>88</td>\n",
       "      <td>117</td>\n",
       "      <td>http://he3.magnatune.com/all/01--My%20mistress%20hath%20a%20pritty%20thing%20(Tobias%20Hume)--Ralph%20Meulenbroeks.mp3</td>\n",
       "      <td>2</td>\n",
       "      <td>&lt;audio src=\"http://localhost:9999/6/ralph_meulenbroeks-gambomania-01-my_mistress_hath_a_pritty_thing_tobias_hume-88-117.mp3\" controls&gt;</td>\n",
       "    </tr>\n",
       "    <tr>\n",
       "      <th>46</th>\n",
       "      <td>94</td>\n",
       "      <td>D:/Research/Data/MIR/MagnaTagATune/mp3_full/6/ralph_meulenbroeks-gambomania-01-my_mistress_hath_a_pritty_thing_tobias_hume-175-204.mp3</td>\n",
       "      <td>1</td>\n",
       "      <td>My mistress hath a pritty thing (Tobias Hume)</td>\n",
       "      <td>Ralph Meulenbroeks</td>\n",
       "      <td>Gambomania</td>\n",
       "      <td>http://www.magnatune.com/artists/albums/meulenbroeks-gambomania/</td>\n",
       "      <td>175</td>\n",
       "      <td>204</td>\n",
       "      <td>http://he3.magnatune.com/all/01--My%20mistress%20hath%20a%20pritty%20thing%20(Tobias%20Hume)--Ralph%20Meulenbroeks.mp3</td>\n",
       "      <td>3</td>\n",
       "      <td>&lt;audio src=\"http://localhost:9999/6/ralph_meulenbroeks-gambomania-01-my_mistress_hath_a_pritty_thing_tobias_hume-175-204.mp3\" controls&gt;</td>\n",
       "    </tr>\n",
       "    <tr>\n",
       "      <th>51</th>\n",
       "      <td>105</td>\n",
       "      <td>D:/Research/Data/MIR/MagnaTagATune/mp3_full/0/rocket_city_riot-last_of_the_pleasure_seekers-01-under_the_bright_lights-146-175.mp3</td>\n",
       "      <td>1</td>\n",
       "      <td>Under The Bright Lights</td>\n",
       "      <td>Rocket City Riot</td>\n",
       "      <td>Last Of The Pleasure Seekers</td>\n",
       "      <td>http://www.magnatune.com/artists/albums/rocketcity-pleasure/</td>\n",
       "      <td>146</td>\n",
       "      <td>175</td>\n",
       "      <td>http://he3.magnatune.com/all/01--Under%20The%20Bright%20Lights--Rocket%20City%20Riot.mp3</td>\n",
       "      <td>4</td>\n",
       "      <td>&lt;audio src=\"http://localhost:9999/0/rocket_city_riot-last_of_the_pleasure_seekers-01-under_the_bright_lights-146-175.mp3\" controls&gt;</td>\n",
       "    </tr>\n",
       "  </tbody>\n",
       "</table>\n",
       "</div>"
      ],
      "text/plain": [
       "       clip_id  \\\n",
       "index            \n",
       "29     66        \n",
       "43     90        \n",
       "44     91        \n",
       "46     94        \n",
       "51     105       \n",
       "\n",
       "                                                                                                                                                                                                             mp3_path  \\\n",
       "index                                                                                                                                                                                                                   \n",
       "29     D:/Research/Data/MIR/MagnaTagATune/mp3_full/9/american_bach_soloists-heinrich_schutz__musicalische_exequien-01-musicalische_exequien_swv_279_teil_i_concert_in_form_einer_teutschen_begrabnismissa-784-813.mp3   \n",
       "43     D:/Research/Data/MIR/MagnaTagATune/mp3_full/6/ralph_meulenbroeks-gambomania-01-my_mistress_hath_a_pritty_thing_tobias_hume-59-88.mp3                                                                             \n",
       "44     D:/Research/Data/MIR/MagnaTagATune/mp3_full/6/ralph_meulenbroeks-gambomania-01-my_mistress_hath_a_pritty_thing_tobias_hume-88-117.mp3                                                                            \n",
       "46     D:/Research/Data/MIR/MagnaTagATune/mp3_full/6/ralph_meulenbroeks-gambomania-01-my_mistress_hath_a_pritty_thing_tobias_hume-175-204.mp3                                                                           \n",
       "51     D:/Research/Data/MIR/MagnaTagATune/mp3_full/0/rocket_city_riot-last_of_the_pleasure_seekers-01-under_the_bright_lights-146-175.mp3                                                                               \n",
       "\n",
       "       track_number  \\\n",
       "index                 \n",
       "29     1              \n",
       "43     1              \n",
       "44     1              \n",
       "46     1              \n",
       "51     1              \n",
       "\n",
       "                                                                                       title  \\\n",
       "index                                                                                          \n",
       "29     Musicalische Exequien SWV 279 Teil I_ Concert in Form einer teutschen Begrabnis-Missa   \n",
       "43     My mistress hath a pritty thing (Tobias Hume)                                           \n",
       "44     My mistress hath a pritty thing (Tobias Hume)                                           \n",
       "46     My mistress hath a pritty thing (Tobias Hume)                                           \n",
       "51     Under The Bright Lights                                                                 \n",
       "\n",
       "                       artist                                    album  \\\n",
       "index                                                                    \n",
       "29     American Bach Soloists  Heinrich Schutz - Musicalische Exequien   \n",
       "43     Ralph Meulenbroeks      Gambomania                                \n",
       "44     Ralph Meulenbroeks      Gambomania                                \n",
       "46     Ralph Meulenbroeks      Gambomania                                \n",
       "51     Rocket City Riot        Last Of The Pleasure Seekers              \n",
       "\n",
       "                                                                    url  \\\n",
       "index                                                                     \n",
       "29     http://www.magnatune.com/artists/albums/abs-heinrich/              \n",
       "43     http://www.magnatune.com/artists/albums/meulenbroeks-gambomania/   \n",
       "44     http://www.magnatune.com/artists/albums/meulenbroeks-gambomania/   \n",
       "46     http://www.magnatune.com/artists/albums/meulenbroeks-gambomania/   \n",
       "51     http://www.magnatune.com/artists/albums/rocketcity-pleasure/       \n",
       "\n",
       "       segmentStart  segmentEnd  \\\n",
       "index                             \n",
       "29     784           813          \n",
       "43     59            88           \n",
       "44     88            117          \n",
       "46     175           204          \n",
       "51     146           175          \n",
       "\n",
       "                                                                                                                                                original_url  \\\n",
       "index                                                                                                                                                          \n",
       "29     http://he3.magnatune.com/all/01--Musicalische%20Exequien%20SWV%20279%20Teil%20I_%20Concert%20in%20Form%20einer%20teutschen%20Begrabnis-Missa--ABS.mp3   \n",
       "43     http://he3.magnatune.com/all/01--My%20mistress%20hath%20a%20pritty%20thing%20(Tobias%20Hume)--Ralph%20Meulenbroeks.mp3                                  \n",
       "44     http://he3.magnatune.com/all/01--My%20mistress%20hath%20a%20pritty%20thing%20(Tobias%20Hume)--Ralph%20Meulenbroeks.mp3                                  \n",
       "46     http://he3.magnatune.com/all/01--My%20mistress%20hath%20a%20pritty%20thing%20(Tobias%20Hume)--Ralph%20Meulenbroeks.mp3                                  \n",
       "51     http://he3.magnatune.com/all/01--Under%20The%20Bright%20Lights--Rocket%20City%20Riot.mp3                                                                \n",
       "\n",
       "       featurespace_id  \\\n",
       "index                    \n",
       "29     0                 \n",
       "43     1                 \n",
       "44     2                 \n",
       "46     3                 \n",
       "51     4                 \n",
       "\n",
       "                                                                                                                                                                                                                player  \n",
       "index                                                                                                                                                                                                                   \n",
       "29     <audio src=\"http://localhost:9999/9/american_bach_soloists-heinrich_schutz__musicalische_exequien-01-musicalische_exequien_swv_279_teil_i_concert_in_form_einer_teutschen_begrabnismissa-784-813.mp3\" controls>  \n",
       "43     <audio src=\"http://localhost:9999/6/ralph_meulenbroeks-gambomania-01-my_mistress_hath_a_pritty_thing_tobias_hume-59-88.mp3\" controls>                                                                            \n",
       "44     <audio src=\"http://localhost:9999/6/ralph_meulenbroeks-gambomania-01-my_mistress_hath_a_pritty_thing_tobias_hume-88-117.mp3\" controls>                                                                           \n",
       "46     <audio src=\"http://localhost:9999/6/ralph_meulenbroeks-gambomania-01-my_mistress_hath_a_pritty_thing_tobias_hume-175-204.mp3\" controls>                                                                          \n",
       "51     <audio src=\"http://localhost:9999/0/rocket_city_riot-last_of_the_pleasure_seekers-01-under_the_bright_lights-146-175.mp3\" controls>                                                                              "
      ]
     },
     "execution_count": 12,
     "metadata": {},
     "output_type": "execute_result"
    }
   ],
   "source": [
    "metadata.head()"
   ]
  },
  {
   "cell_type": "code",
   "execution_count": 13,
   "metadata": {},
   "outputs": [
    {
     "name": "stdout",
     "output_type": "stream",
     "text": [
      "Track : Ralph Meulenbroeks - My mistress hath a pritty thing (Tobias Hume)\n",
      "Labels: 'solo', 'viola', 'cello', 'classical', 'fast', 'string', 'violin'\n"
     ]
    }
   ],
   "source": [
    "idx = 1\n",
    "\n",
    "print(\"Track : \" + \" - \".join(metadata[[\"artist\", \"title\"]].iloc[idx]) )\n",
    "print(\"Labels: '\" + \"', '\".join(labels.columns[labels.iloc[idx] == 1]) + \"'\")"
   ]
  },
  {
   "cell_type": "markdown",
   "metadata": {},
   "source": [
    "### Calculating similarities between Tracks based on labels\n",
    "\n",
    "To estimate the similarities between tracks, we first have to assess, how many labels  we have and how they are distributed."
   ]
  },
  {
   "cell_type": "markdown",
   "metadata": {},
   "source": [
    "### Term (Label) Frequencies\n",
    "\n",
    "As a next step we will analyze how many labels we have in our dataset, which ones are the most frequently used and so on.\n",
    "\n",
    "So let's see what are the most used genre labels in our dataset:"
   ]
  },
  {
   "cell_type": "code",
   "execution_count": 14,
   "metadata": {},
   "outputs": [
    {
     "data": {
      "image/png": "[encoded data removed]",
      "text/plain": [
       "<Figure size 1152x432 with 1 Axes>"
      ]
     },
     "metadata": {
      "needs_background": "light"
     },
     "output_type": "display_data"
    }
   ],
   "source": [
    "labels.sum(axis=0).sort_values(ascending=False)[:50].plot(kind=\"bar\", figsize=(16,6));"
   ]
  },
  {
   "cell_type": "markdown",
   "metadata": {},
   "source": [
    "As we can see, the \"rock\" genre is the most dominating one. Thus, providing this label to a track does not add more relevant information to it to distinguish it from other tracks. The term \"romantic\" on the other hand is less frequent which makes it more discrimitative."
   ]
  },
  {
   "cell_type": "code",
   "execution_count": 15,
   "metadata": {},
   "outputs": [],
   "source": [
    "tf            = labels.sum(axis=0)\n",
    "idf           = np.log(labels.shape[0] / tf)\n",
    "labels_tf_idf = labels / idf"
   ]
  },
  {
   "cell_type": "markdown",
   "metadata": {
    "collapsed": true
   },
   "source": [
    "Based on this rescaled label weights, we can calculate the tag-based similarties between all pairs of tracks. We will use the Dice metric"
   ]
  },
  {
   "cell_type": "code",
   "execution_count": 16,
   "metadata": {},
   "outputs": [],
   "source": [
    "# the pdist function calculates all pairwise distances\n",
    "dists = pdist(labels_tf_idf, 'dice')\n",
    "\n",
    "# pdist returns a list of results. We use the squareform function to convert this into a symmetric matrix\n",
    "tag_based_track_similarities = pd.DataFrame((1 - squareform(dists)), \n",
    "                                            index   = labels_tf_idf.index,\n",
    "                                            columns = labels_tf_idf.index)"
   ]
  },
  {
   "cell_type": "markdown",
   "metadata": {},
   "source": [
    "Now we can use this to search for similar tracks using the tag-similarities:"
   ]
  },
  {
   "cell_type": "code",
   "execution_count": 17,
   "metadata": {},
   "outputs": [
    {
     "data": {
      "text/html": [
       "<div>\n",
       "<style scoped>\n",
       "    .dataframe tbody tr th:only-of-type {\n",
       "        vertical-align: middle;\n",
       "    }\n",
       "\n",
       "    .dataframe tbody tr th {\n",
       "        vertical-align: top;\n",
       "    }\n",
       "\n",
       "    .dataframe thead th {\n",
       "        text-align: right;\n",
       "    }\n",
       "</style>\n",
       "<table border=\"1\" class=\"dataframe\">\n",
       "  <thead>\n",
       "    <tr style=\"text-align: right;\">\n",
       "      <th>index</th>\n",
       "      <th>29</th>\n",
       "      <th>43</th>\n",
       "      <th>44</th>\n",
       "      <th>46</th>\n",
       "      <th>51</th>\n",
       "      <th>79</th>\n",
       "      <th>93</th>\n",
       "      <th>105</th>\n",
       "      <th>107</th>\n",
       "      <th>109</th>\n",
       "    </tr>\n",
       "    <tr>\n",
       "      <th>index</th>\n",
       "      <th></th>\n",
       "      <th></th>\n",
       "      <th></th>\n",
       "      <th></th>\n",
       "      <th></th>\n",
       "      <th></th>\n",
       "      <th></th>\n",
       "      <th></th>\n",
       "      <th></th>\n",
       "      <th></th>\n",
       "    </tr>\n",
       "  </thead>\n",
       "  <tbody>\n",
       "    <tr>\n",
       "      <th>29</th>\n",
       "      <td>1.000000</td>\n",
       "      <td>0.153846</td>\n",
       "      <td>0.200000</td>\n",
       "      <td>0.166667</td>\n",
       "      <td>0.000000</td>\n",
       "      <td>0.222222</td>\n",
       "      <td>0.190476</td>\n",
       "      <td>0.181818</td>\n",
       "      <td>0.000000</td>\n",
       "      <td>0.000000</td>\n",
       "    </tr>\n",
       "    <tr>\n",
       "      <th>43</th>\n",
       "      <td>0.153846</td>\n",
       "      <td>1.000000</td>\n",
       "      <td>0.727273</td>\n",
       "      <td>0.615385</td>\n",
       "      <td>0.181818</td>\n",
       "      <td>0.600000</td>\n",
       "      <td>0.090909</td>\n",
       "      <td>0.166667</td>\n",
       "      <td>0.000000</td>\n",
       "      <td>0.000000</td>\n",
       "    </tr>\n",
       "    <tr>\n",
       "      <th>44</th>\n",
       "      <td>0.200000</td>\n",
       "      <td>0.727273</td>\n",
       "      <td>1.000000</td>\n",
       "      <td>0.800000</td>\n",
       "      <td>0.000000</td>\n",
       "      <td>0.857143</td>\n",
       "      <td>0.000000</td>\n",
       "      <td>0.222222</td>\n",
       "      <td>0.000000</td>\n",
       "      <td>0.000000</td>\n",
       "    </tr>\n",
       "    <tr>\n",
       "      <th>46</th>\n",
       "      <td>0.166667</td>\n",
       "      <td>0.615385</td>\n",
       "      <td>0.800000</td>\n",
       "      <td>1.000000</td>\n",
       "      <td>0.000000</td>\n",
       "      <td>0.666667</td>\n",
       "      <td>0.000000</td>\n",
       "      <td>0.181818</td>\n",
       "      <td>0.000000</td>\n",
       "      <td>0.000000</td>\n",
       "    </tr>\n",
       "    <tr>\n",
       "      <th>51</th>\n",
       "      <td>0.000000</td>\n",
       "      <td>0.181818</td>\n",
       "      <td>0.000000</td>\n",
       "      <td>0.000000</td>\n",
       "      <td>1.000000</td>\n",
       "      <td>0.000000</td>\n",
       "      <td>0.421053</td>\n",
       "      <td>0.666667</td>\n",
       "      <td>0.000000</td>\n",
       "      <td>0.000000</td>\n",
       "    </tr>\n",
       "    <tr>\n",
       "      <th>79</th>\n",
       "      <td>0.222222</td>\n",
       "      <td>0.600000</td>\n",
       "      <td>0.857143</td>\n",
       "      <td>0.666667</td>\n",
       "      <td>0.000000</td>\n",
       "      <td>1.000000</td>\n",
       "      <td>0.000000</td>\n",
       "      <td>0.250000</td>\n",
       "      <td>0.000000</td>\n",
       "      <td>0.000000</td>\n",
       "    </tr>\n",
       "    <tr>\n",
       "      <th>93</th>\n",
       "      <td>0.190476</td>\n",
       "      <td>0.090909</td>\n",
       "      <td>0.000000</td>\n",
       "      <td>0.000000</td>\n",
       "      <td>0.421053</td>\n",
       "      <td>0.000000</td>\n",
       "      <td>1.000000</td>\n",
       "      <td>0.400000</td>\n",
       "      <td>0.000000</td>\n",
       "      <td>0.000000</td>\n",
       "    </tr>\n",
       "    <tr>\n",
       "      <th>105</th>\n",
       "      <td>0.181818</td>\n",
       "      <td>0.166667</td>\n",
       "      <td>0.222222</td>\n",
       "      <td>0.181818</td>\n",
       "      <td>0.666667</td>\n",
       "      <td>0.250000</td>\n",
       "      <td>0.400000</td>\n",
       "      <td>1.000000</td>\n",
       "      <td>0.000000</td>\n",
       "      <td>0.000000</td>\n",
       "    </tr>\n",
       "    <tr>\n",
       "      <th>107</th>\n",
       "      <td>0.000000</td>\n",
       "      <td>0.000000</td>\n",
       "      <td>0.000000</td>\n",
       "      <td>0.000000</td>\n",
       "      <td>0.000000</td>\n",
       "      <td>0.000000</td>\n",
       "      <td>0.000000</td>\n",
       "      <td>0.000000</td>\n",
       "      <td>1.000000</td>\n",
       "      <td>0.444444</td>\n",
       "    </tr>\n",
       "    <tr>\n",
       "      <th>109</th>\n",
       "      <td>0.000000</td>\n",
       "      <td>0.000000</td>\n",
       "      <td>0.000000</td>\n",
       "      <td>0.000000</td>\n",
       "      <td>0.000000</td>\n",
       "      <td>0.000000</td>\n",
       "      <td>0.000000</td>\n",
       "      <td>0.000000</td>\n",
       "      <td>0.444444</td>\n",
       "      <td>1.000000</td>\n",
       "    </tr>\n",
       "  </tbody>\n",
       "</table>\n",
       "</div>"
      ],
      "text/plain": [
       "index        29        43        44        46        51        79        93  \\\n",
       "index                                                                         \n",
       "29     1.000000  0.153846  0.200000  0.166667  0.000000  0.222222  0.190476   \n",
       "43     0.153846  1.000000  0.727273  0.615385  0.181818  0.600000  0.090909   \n",
       "44     0.200000  0.727273  1.000000  0.800000  0.000000  0.857143  0.000000   \n",
       "46     0.166667  0.615385  0.800000  1.000000  0.000000  0.666667  0.000000   \n",
       "51     0.000000  0.181818  0.000000  0.000000  1.000000  0.000000  0.421053   \n",
       "79     0.222222  0.600000  0.857143  0.666667  0.000000  1.000000  0.000000   \n",
       "93     0.190476  0.090909  0.000000  0.000000  0.421053  0.000000  1.000000   \n",
       "105    0.181818  0.166667  0.222222  0.181818  0.666667  0.250000  0.400000   \n",
       "107    0.000000  0.000000  0.000000  0.000000  0.000000  0.000000  0.000000   \n",
       "109    0.000000  0.000000  0.000000  0.000000  0.000000  0.000000  0.000000   \n",
       "\n",
       "index       105       107       109  \n",
       "index                                \n",
       "29     0.181818  0.000000  0.000000  \n",
       "43     0.166667  0.000000  0.000000  \n",
       "44     0.222222  0.000000  0.000000  \n",
       "46     0.181818  0.000000  0.000000  \n",
       "51     0.666667  0.000000  0.000000  \n",
       "79     0.250000  0.000000  0.000000  \n",
       "93     0.400000  0.000000  0.000000  \n",
       "105    1.000000  0.000000  0.000000  \n",
       "107    0.000000  1.000000  0.444444  \n",
       "109    0.000000  0.444444  1.000000  "
      ]
     },
     "execution_count": 17,
     "metadata": {},
     "output_type": "execute_result"
    }
   ],
   "source": [
    "tag_based_track_similarities.iloc[:10,:10]"
   ]
  },
  {
   "cell_type": "code",
   "execution_count": 18,
   "metadata": {},
   "outputs": [
    {
     "name": "stdout",
     "output_type": "stream",
     "text": [
      "clip_id            2914                                                                                                    \n",
      "mp3_path           D:/Research/Data/MIR/MagnaTagATune/mp3_full/8/stargarden-music_for_modern_listening-01-mural-88-117.mp3 \n",
      "track_number       1                                                                                                       \n",
      "title              Mural                                                                                                   \n",
      "artist             Stargarden                                                                                              \n",
      "album              Music for Modern Listening                                                                              \n",
      "url                http://www.magnatune.com/artists/albums/stargarden-modern/                                              \n",
      "segmentStart       88                                                                                                      \n",
      "segmentEnd         117                                                                                                     \n",
      "original_url       http://he3.magnatune.com/all/01-Mural-Stargarden.mp3                                                    \n",
      "featurespace_id    100                                                                                                     \n",
      "player             <audio src=\"http://localhost:9999/8/stargarden-music_for_modern_listening-01-mural-88-117.mp3\" controls>\n",
      "Name: 1359, dtype: object\n"
     ]
    },
    {
     "data": {
      "text/html": [
       "<table border=\"1\" class=\"dataframe\">\n",
       "  <thead>\n",
       "    <tr style=\"text-align: right;\">\n",
       "      <th></th>\n",
       "      <th>artist</th>\n",
       "      <th>title</th>\n",
       "      <th>album</th>\n",
       "      <th>sim</th>\n",
       "      <th>player</th>\n",
       "    </tr>\n",
       "    <tr>\n",
       "      <th>index</th>\n",
       "      <th></th>\n",
       "      <th></th>\n",
       "      <th></th>\n",
       "      <th></th>\n",
       "      <th></th>\n",
       "    </tr>\n",
       "  </thead>\n",
       "  <tbody>\n",
       "    <tr>\n",
       "      <th>1359</th>\n",
       "      <td>Stargarden</td>\n",
       "      <td>Mural</td>\n",
       "      <td>Music for Modern Listening</td>\n",
       "      <td>1.000000</td>\n",
       "      <td><audio src=\"http://localhost:9999/8/stargarden-music_for_modern_listening-01-mural-88-117.mp3\" controls></td>\n",
       "    </tr>\n",
       "    <tr>\n",
       "      <th>1949</th>\n",
       "      <td>Etherfysh</td>\n",
       "      <td>Sanctuary</td>\n",
       "      <td>Box of Fysh</td>\n",
       "      <td>0.777778</td>\n",
       "      <td><audio src=\"http://localhost:9999/3/etherfysh-box_of_fysh-01-sanctuary-958-987.mp3\" controls></td>\n",
       "    </tr>\n",
       "    <tr>\n",
       "      <th>17325</th>\n",
       "      <td>Domased</td>\n",
       "      <td>Transfusion</td>\n",
       "      <td>New Memories</td>\n",
       "      <td>0.769231</td>\n",
       "      <td><audio src=\"http://localhost:9999/c/domased-new_memories-08-transfusion-0-29.mp3\" controls></td>\n",
       "    </tr>\n",
       "    <tr>\n",
       "      <th>12374</th>\n",
       "      <td>Belief Systems</td>\n",
       "      <td>Fuzzy Logic</td>\n",
       "      <td>EPROMs</td>\n",
       "      <td>0.769231</td>\n",
       "      <td><audio src=\"http://localhost:9999/d/belief_systems-eproms-06-fuzzy_logic-349-378.mp3\" controls></td>\n",
       "    </tr>\n",
       "    <tr>\n",
       "      <th>9675</th>\n",
       "      <td>Paul Avgerinos</td>\n",
       "      <td>Anoint and Cheer</td>\n",
       "      <td>Phos Hilaron</td>\n",
       "      <td>0.750000</td>\n",
       "      <td><audio src=\"http://localhost:9999/7/paul_avgerinos-phos_hilaron-05-anoint_and_cheer-349-378.mp3\" controls></td>\n",
       "    </tr>\n",
       "    <tr>\n",
       "      <th>1080</th>\n",
       "      <td>Liquid Zen</td>\n",
       "      <td>Levier D'Armement</td>\n",
       "      <td>Oscilloscope</td>\n",
       "      <td>0.750000</td>\n",
       "      <td><audio src=\"http://localhost:9999/c/liquid_zen-oscilloscope-01-levier_darmement-117-146.mp3\" controls></td>\n",
       "    </tr>\n",
       "    <tr>\n",
       "      <th>15644</th>\n",
       "      <td>Kenji Williams</td>\n",
       "      <td>WORLDSPIRIT Invocation</td>\n",
       "      <td>Worldspirit Soundtrack</td>\n",
       "      <td>0.736842</td>\n",
       "      <td><audio src=\"http://localhost:9999/8/kenji_williams-worldspirit_soundtrack-07-worldspirit_invocation-349-378.mp3\" controls></td>\n",
       "    </tr>\n",
       "    <tr>\n",
       "      <th>20359</th>\n",
       "      <td>MRDC</td>\n",
       "      <td>Walking Safely</td>\n",
       "      <td>Timecode</td>\n",
       "      <td>0.714286</td>\n",
       "      <td><audio src=\"http://localhost:9999/2/mrdc-timecode-10-walking_safely-0-29.mp3\" controls></td>\n",
       "    </tr>\n",
       "    <tr>\n",
       "      <th>12241</th>\n",
       "      <td>Mijo</td>\n",
       "      <td>Electronic</td>\n",
       "      <td>Fata Morgana</td>\n",
       "      <td>0.714286</td>\n",
       "      <td><audio src=\"http://localhost:9999/1/mijo-fata_morgana-06-electronic-59-88.mp3\" controls></td>\n",
       "    </tr>\n",
       "    <tr>\n",
       "      <th>17056</th>\n",
       "      <td>Joram</td>\n",
       "      <td>solipsism</td>\n",
       "      <td>Moments of Clarity</td>\n",
       "      <td>0.714286</td>\n",
       "      <td><audio src=\"http://localhost:9999/e/joram-moments_of_clarity-08-solipsism-233-262.mp3\" controls></td>\n",
       "    </tr>\n",
       "  </tbody>\n",
       "</table>"
      ],
      "text/plain": [
       "<IPython.core.display.HTML object>"
      ]
     },
     "execution_count": 18,
     "metadata": {},
     "output_type": "execute_result"
    }
   ],
   "source": [
    "query_track_idx = 100\n",
    "\n",
    "print(metadata.iloc[query_track_idx])\n",
    "\n",
    "# get the similar tracks from the distance-matrix\n",
    "similar_tracks = tag_based_track_similarities.loc[metadata.iloc[query_track_idx].name].sort_values(ascending=False)\n",
    "\n",
    "# filter the aligned metadata\n",
    "result        = metadata.loc[similar_tracks.index]\n",
    "\n",
    "result[\"sim\"] = similar_tracks.values\n",
    "\n",
    "# show results\n",
    "display_cols = [\"artist\", \"title\", \"album\", \"sim\", \"player\"]\n",
    "\n",
    "HTML(result[display_cols][:10].to_html(escape=False))"
   ]
  },
  {
   "cell_type": "markdown",
   "metadata": {},
   "source": [
    "# Interposed Question\n",
    "\n",
    "*The tag-similarities seem to be quite accurate. Why don't we use them instead of this complicated and computing intensive Neural Networks which train on audio data?*\n",
    "\n",
    "Well, this seems obvious on the first hand, but remember that we don't have labels for all artists. Thus, for those without labels, we cannot calculate similarities. But, we have audio features for all tracks. Thus, we use the subset of provided labels to train a general model based on audio content."
   ]
  },
  {
   "cell_type": "markdown",
   "metadata": {
    "collapsed": true
   },
   "source": [
    "# Train the Siamese Networks on the Tag-Similarity Ground-Truth\n",
    "\n",
    "We use the same Siamese Network architecture presented in part 2 of this tutorial. Also the method to create the pairwise training-data is the same. Please refer to part 2 for further details."
   ]
  },
  {
   "cell_type": "code",
   "execution_count": 19,
   "metadata": {},
   "outputs": [
    {
     "name": "stderr",
     "output_type": "stream",
     "text": [
      "Using TensorFlow backend.\n"
     ]
    }
   ],
   "source": [
    "from keras.models           import Model\n",
    "from keras.layers           import Input, Lambda, Dense, Conv2D, Flatten, MaxPooling2D, Concatenate, Dropout, BatchNormalization, GaussianNoise\n",
    "from keras.layers.merge     import concatenate\n",
    "from keras.optimizers       import Nadam, SGD, Adam, RMSprop\n",
    "from keras.constraints      import unit_norm\n",
    "from keras.regularizers     import l2\n",
    "from keras import backend as K"
   ]
  },
  {
   "cell_type": "markdown",
   "metadata": {},
   "source": [
    "First we define a distance measure to compare the two representations. We will be using the well known Eucledian distance:"
   ]
  },
  {
   "cell_type": "code",
   "execution_count": 20,
   "metadata": {},
   "outputs": [],
   "source": [
    "def euclidean_distance(vects):\n",
    "    x, y = vects\n",
    "    return K.sqrt(K.maximum(K.sum(K.square(x - y), axis=1, keepdims=True), K.epsilon()))"
   ]
  },
  {
   "cell_type": "markdown",
   "metadata": {},
   "source": [
    "### The Siamese Network Architecture\n",
    "\n",
    "Now we define the Siamese Network Architecture. It consists of two fully connected layers. These layers are shared among the \"Siamese twins\". The network takes two inputs. One goes to the left twin, the other to the right one. The Eucledian distance of the output of each twin is calculated which is the final output of the model."
   ]
  },
  {
   "cell_type": "code",
   "execution_count": 21,
   "metadata": {},
   "outputs": [
    {
     "name": "stdout",
     "output_type": "stream",
     "text": [
      "__________________________________________________________________________________________________\n",
      "Layer (type)                    Output Shape         Param #     Connected to                     \n",
      "==================================================================================================\n",
      "input_ref (InputLayer)          (None, 80, 80, 1)    0                                            \n",
      "__________________________________________________________________________________________________\n",
      "input_dif (InputLayer)          (None, 80, 80, 1)    0                                            \n",
      "__________________________________________________________________________________________________\n",
      "gaussian_noise_1 (GaussianNoise (None, 80, 80, 1)    0           input_ref[0][0]                  \n",
      "                                                                 input_ref[0][0]                  \n",
      "                                                                 input_dif[0][0]                  \n",
      "                                                                 input_dif[0][0]                  \n",
      "__________________________________________________________________________________________________\n",
      "batch_normalization_1 (BatchNor (None, 80, 80, 1)    4           gaussian_noise_1[0][0]           \n",
      "                                                                 gaussian_noise_1[1][0]           \n",
      "                                                                 gaussian_noise_1[2][0]           \n",
      "                                                                 gaussian_noise_1[3][0]           \n",
      "__________________________________________________________________________________________________\n",
      "conv_a (Conv2D)                 (None, 80, 80, 16)   3712        batch_normalization_1[0][0]      \n",
      "                                                                 batch_normalization_1[2][0]      \n",
      "__________________________________________________________________________________________________\n",
      "conv_b (Conv2D)                 (None, 80, 80, 16)   3712        batch_normalization_1[1][0]      \n",
      "                                                                 batch_normalization_1[3][0]      \n",
      "__________________________________________________________________________________________________\n",
      "max_pooling_a (MaxPooling2D)    (None, 4, 20, 16)    0           conv_a[0][0]                     \n",
      "                                                                 conv_a[1][0]                     \n",
      "__________________________________________________________________________________________________\n",
      "max_pooling_b (MaxPooling2D)    (None, 20, 4, 16)    0           conv_b[0][0]                     \n",
      "                                                                 conv_b[1][0]                     \n",
      "__________________________________________________________________________________________________\n",
      "batch_normalization_2 (BatchNor (None, 4, 20, 16)    64          max_pooling_a[0][0]              \n",
      "                                                                 max_pooling_a[1][0]              \n",
      "__________________________________________________________________________________________________\n",
      "batch_normalization_3 (BatchNor (None, 20, 4, 16)    64          max_pooling_b[0][0]              \n",
      "                                                                 max_pooling_b[1][0]              \n",
      "__________________________________________________________________________________________________\n",
      "flatten_a (Flatten)             (None, 1280)         0           batch_normalization_2[0][0]      \n",
      "                                                                 batch_normalization_2[1][0]      \n",
      "__________________________________________________________________________________________________\n",
      "flatten_b (Flatten)             (None, 1280)         0           batch_normalization_3[0][0]      \n",
      "                                                                 batch_normalization_3[1][0]      \n",
      "__________________________________________________________________________________________________\n",
      "concatenate (Concatenate)       (None, 2560)         0           flatten_a[0][0]                  \n",
      "                                                                 flatten_b[0][0]                  \n",
      "                                                                 flatten_a[1][0]                  \n",
      "                                                                 flatten_b[1][0]                  \n",
      "__________________________________________________________________________________________________\n",
      "dense_1 (Dense)                 (None, 256)          655616      concatenate[0][0]                \n",
      "                                                                 concatenate[1][0]                \n",
      "__________________________________________________________________________________________________\n",
      "lambda_1 (Lambda)               (None, 256)          0           dense_1[0][0]                    \n",
      "                                                                 dense_1[1][0]                    \n",
      "==================================================================================================\n",
      "Total params: 663,172\n",
      "Trainable params: 663,106\n",
      "Non-trainable params: 66\n",
      "__________________________________________________________________________________________________\n"
     ]
    }
   ],
   "source": [
    "def create_siamese_network():\n",
    "\n",
    "    input_ref = Input((80,80,1), name=\"input_ref\")\n",
    "    input_dif = Input((80,80,1), name=\"input_dif\")\n",
    "    \n",
    "    gn = GaussianNoise(0.2)\n",
    "    bn = BatchNormalization()\n",
    "\n",
    "    cnn_a_1 = Conv2D(16, (21,11), padding=\"same\", activation=\"relu\", kernel_regularizer=l2(0.0001), name=\"conv_a\")\n",
    "    cnn_a_2 = MaxPooling2D((20,4),   name=\"max_pooling_a\")\n",
    "    cnn_a_3 = BatchNormalization()\n",
    "    cnn_a_4 = Flatten(name=\"flatten_a\")\n",
    "\n",
    "    cnn_b_1 = Conv2D(16, (11,21), padding=\"same\", activation=\"relu\", kernel_regularizer=l2(0.0001), name=\"conv_b\")\n",
    "    cnn_b_2 = MaxPooling2D((4,20),   name=\"max_pooling_b\")\n",
    "    cnn_b_3 = BatchNormalization()\n",
    "    cnn_b_4 = Flatten(name=\"flatten_b\")\n",
    "\n",
    "    mrg = Concatenate(axis=1, name=\"concatenate\")\n",
    "\n",
    "    hidden_layer = Dense(256, activation=\"elu\", kernel_constraint=unit_norm())\n",
    "    \n",
    "    def get_shared_dnn(m_input):\n",
    "        shared_cnn_a = cnn_a_4(cnn_a_3(cnn_a_2(cnn_a_1(bn(gn(m_input))))))\n",
    "        shared_cnn_b = cnn_b_4(cnn_b_3(cnn_b_2(cnn_b_1(bn(gn(m_input))))))\n",
    "\n",
    "        return hidden_layer(mrg([shared_cnn_a,shared_cnn_b]))\n",
    "\n",
    "    siamese_ref = get_shared_dnn(input_ref)\n",
    "    siamese_dif = get_shared_dnn(input_dif)\n",
    "\n",
    "    dist = Lambda(euclidean_distance, output_shape=lambda x: x[0])([siamese_ref, siamese_dif])\n",
    "    \n",
    "    model = Model(inputs=[input_ref, input_dif], outputs=dist)\n",
    "    \n",
    "    return model\n",
    "\n",
    "model = create_siamese_network().summary()"
   ]
  },
  {
   "cell_type": "markdown",
   "metadata": {},
   "source": [
    "**Contrastive Loss**\n",
    "\n",
    "The contrastive loss is based on the Euclidean distance and measures the cost of data pairs. The objective of the contrastive loss is to minimize the distance between a similar pair and to separate any two dissimilar data with a distance margin"
   ]
  },
  {
   "cell_type": "code",
   "execution_count": 22,
   "metadata": {},
   "outputs": [],
   "source": [
    "def contrastive_loss(y_true, y_pred):\n",
    "    margin = 1\n",
    "    return K.mean(y_true * K.square(y_pred) + (1 - y_true) * K.square(K.maximum(margin - y_pred, 0)))"
   ]
  },
  {
   "cell_type": "markdown",
   "metadata": {},
   "source": [
    "### Create Data-Pairs\n",
    "\n",
    "Now we have to prepare and partition the input data. We use the approach which considers identity. Thus, we will reduce the similarity values which have been looked-up from the distance-matrix by 0.1:"
   ]
  },
  {
   "cell_type": "code",
   "execution_count": 23,
   "metadata": {},
   "outputs": [
    {
     "data": {
      "text/plain": [
       "index\n",
       "24443    0.6\n",
       "Name: 29, dtype: float64"
      ]
     },
     "execution_count": 23,
     "metadata": {},
     "output_type": "execute_result"
    }
   ],
   "source": [
    "sims = tag_based_track_similarities.loc[29].sort_values(ascending=False)\n",
    "sims = sims.loc[sims.index != 29]\n",
    "sims.iloc[:10].sample(1)"
   ]
  },
  {
   "cell_type": "code",
   "execution_count": 24,
   "metadata": {},
   "outputs": [],
   "source": [
    "def create_pairs_with_sims_and_identity(feature_data, metadata, labels, playlist_similarities, num_triplets_per_track):\n",
    "    \n",
    "    data_ref  = []\n",
    "    data_dif  = []\n",
    "    gt_labels = []\n",
    "    \n",
    "    pbar = progressbar.ProgressBar(max_value=metadata.shape[0])\n",
    "    \n",
    "    i = 0\n",
    "    \n",
    "    for row_id, q_track in pbar(metadata.iterrows()):\n",
    "        \n",
    "        for j in range(num_triplets_per_track):\n",
    "            \n",
    "            sims = tag_based_track_similarities.loc[row_id].sort_values(ascending=False)\n",
    "            sims = sims.loc[sims.index != row_id]\n",
    "            \n",
    "            \n",
    "            similar_tag    = sims.iloc[:10].sample(1)\n",
    "            dissimilar_tag = sims.iloc[-10:].sample(1) \n",
    "            \n",
    "            # search similar and dissimilar examples\n",
    "            pos_example_idx      = similar_tag.index.values[0]\n",
    "            neg_example_idx      = dissimilar_tag.index.values[0]\n",
    "            \n",
    "            # create feature triplets\n",
    "            feat_id_ref          = metadata.loc[row_id].featurespace_id\n",
    "            feat_id_pos          = metadata.loc[pos_example_idx].featurespace_id\n",
    "            feat_id_neg          = metadata.loc[neg_example_idx].featurespace_id\n",
    "                        \n",
    "            if j == 0:\n",
    "                \n",
    "                data_ref.append(feature_data[feat_id_ref])\n",
    "                data_dif.append(feature_data[feat_id_ref])\n",
    "                gt_labels.append(1)\n",
    "                \n",
    "                data_ref.append(feature_data[feat_id_ref])\n",
    "                data_dif.append(feature_data[feat_id_neg])\n",
    "                gt_labels.append(dissimilar_tag.values[0])\n",
    "            \n",
    "            # genuine pair\n",
    "            data_ref.append(feature_data[feat_id_ref])\n",
    "            data_dif.append(feature_data[feat_id_pos])\n",
    "            \n",
    "            gt_labels.append(similar_tag.values[0])\n",
    "            \n",
    "            data_ref.append(feature_data[feat_id_ref])\n",
    "            data_dif.append(feature_data[feat_id_neg])\n",
    "            \n",
    "            gt_labels.append(dissimilar_tag.values[0])\n",
    "\n",
    "    return [np.asarray(data_ref), np.asarray(data_dif)], np.asarray(gt_labels)\n",
    "\n",
    "#data_pairs, paired_labels = create_pairs_with_sims_and_identity(melspecs, metadata, labels, tag_based_track_similarities, 1)"
   ]
  },
  {
   "cell_type": "markdown",
   "metadata": {},
   "source": [
    "Execute the function to prepare the data:"
   ]
  },
  {
   "cell_type": "code",
   "execution_count": 25,
   "metadata": {},
   "outputs": [
    {
     "name": "stderr",
     "output_type": "stream",
     "text": [
      "100% (2943 of 2943) |####################| Elapsed Time: 0:00:18 Time:  0:00:18\n"
     ]
    },
    {
     "data": {
      "text/plain": [
       "(35316, 80, 80, 1)"
      ]
     },
     "execution_count": 25,
     "metadata": {},
     "output_type": "execute_result"
    }
   ],
   "source": [
    "data_pairs, paired_labels = create_pairs_with_sims_and_identity(melspecs, metadata, labels, tag_based_track_similarities, 5)\n",
    "\n",
    "data_pairs[0].shape"
   ]
  },
  {
   "cell_type": "markdown",
   "metadata": {},
   "source": [
    "Prepare the Siamese Neural Network"
   ]
  },
  {
   "cell_type": "code",
   "execution_count": 26,
   "metadata": {},
   "outputs": [],
   "source": [
    "# define the model\n",
    "model = create_siamese_network()\n",
    "\n",
    "# define the optimizer\n",
    "opt = Adam(lr=0.0001, decay=0.001)\n",
    "\n",
    "# compile the model\n",
    "model.compile(loss      = contrastive_loss, \n",
    "              optimizer = opt)"
   ]
  },
  {
   "cell_type": "markdown",
   "metadata": {},
   "source": [
    "Train the network on the tag-similarity ground-truth"
   ]
  },
  {
   "cell_type": "code",
   "execution_count": 27,
   "metadata": {},
   "outputs": [
    {
     "name": "stdout",
     "output_type": "stream",
     "text": [
      "Train on 33316 samples, validate on 2000 samples\n",
      "Epoch 1/10\n",
      "33316/33316 [==============================] - 34s 1ms/step - loss: 1.9503 - val_loss: 0.4804\n",
      "Epoch 2/10\n",
      "33316/33316 [==============================] - 31s 931us/step - loss: 0.2967 - val_loss: 0.3461\n",
      "Epoch 3/10\n",
      "33316/33316 [==============================] - 40s 1ms/step - loss: 0.2339 - val_loss: 0.2866\n",
      "Epoch 4/10\n",
      "33316/33316 [==============================] - 87s 3ms/step - loss: 0.2088 - val_loss: 0.2408\n",
      "Epoch 5/10\n",
      "33316/33316 [==============================] - 142s 4ms/step - loss: 0.1941 - val_loss: 0.5084\n",
      "Epoch 6/10\n",
      "33316/33316 [==============================] - 153s 5ms/step - loss: 0.1840 - val_loss: 0.3346\n",
      "Epoch 7/10\n",
      "33316/33316 [==============================] - 92s 3ms/step - loss: 0.1765 - val_loss: 0.1936\n",
      "Epoch 8/10\n",
      "33316/33316 [==============================] - 31s 928us/step - loss: 0.1707 - val_loss: 0.1861\n",
      "Epoch 9/10\n",
      "33316/33316 [==============================] - 31s 939us/step - loss: 0.1658 - val_loss: 0.1869\n",
      "Epoch 10/10\n",
      "33316/33316 [==============================] - 31s 939us/step - loss: 0.1616 - val_loss: 10.4747\n"
     ]
    }
   ],
   "source": [
    "model.fit([data_pairs[0][:-2000], data_pairs[1][:-2000]], \n",
    "           paired_labels[:-2000], \n",
    "                batch_size       = 64, \n",
    "                verbose          = 1, \n",
    "                epochs           = 10,\n",
    "                shuffle          = False, # important !\n",
    "                validation_data = [[data_pairs[0][-2000:], data_pairs[1][-2000:]], paired_labels[-2000:]]);"
   ]
  },
  {
   "cell_type": "code",
   "execution_count": 28,
   "metadata": {},
   "outputs": [],
   "source": [
    "model.save_weights(\"./models/part_2c_siamese_network_with_tag_similarities.h5\")"
   ]
  },
  {
   "cell_type": "code",
   "execution_count": 29,
   "metadata": {},
   "outputs": [],
   "source": [
    "def similar(model, query_idx):\n",
    "    \n",
    "\n",
    "    print(metadata.iloc[query_idx])\n",
    "    \n",
    "    ref_feat = melspecs[[metadata.iloc[query_idx].featurespace_id]]\n",
    "    ref_feat = np.repeat(ref_feat, melspecs.shape[0], axis=0)\n",
    "    \n",
    "    # calclulate predicted distances between query track and all others\n",
    "    res = model.predict([ref_feat, melspecs])\n",
    "\n",
    "    # reshape\n",
    "    res = res.flatten()\n",
    "    \n",
    "    # get sorted indexes in ascending order (smallest distance to query track first)\n",
    "    si = np.argsort(res)\n",
    "    \n",
    "    # output filter\n",
    "    display_cols = [\"artist\", \"title\", \"album\", \"player\"]\n",
    "    \n",
    "    \n",
    "    \n",
    "    return HTML(metadata.set_index(\"featurespace_id\").loc[si[:11]][display_cols].to_html(escape=False))"
   ]
  },
  {
   "cell_type": "markdown",
   "metadata": {},
   "source": [
    "Now let's check the results for some individual tracks by supplying the index to our dataset:"
   ]
  },
  {
   "cell_type": "code",
   "execution_count": 30,
   "metadata": {},
   "outputs": [
    {
     "name": "stdout",
     "output_type": "stream",
     "text": [
      "clip_id            18660                                                                                                        \n",
      "mp3_path           D:/Research/Data/MIR/MagnaTagATune/mp3_full/8/kourosh_zolani-peaceful_planet-04-my_childhood_dream-59-88.mp3 \n",
      "track_number       4                                                                                                            \n",
      "title              My childhood dream                                                                                           \n",
      "artist             Kourosh Zolani                                                                                               \n",
      "album              Peaceful Planet                                                                                              \n",
      "url                http://www.magnatune.com/artists/albums/zolani-peaceful/                                                     \n",
      "segmentStart       59                                                                                                           \n",
      "segmentEnd         88                                                                                                           \n",
      "original_url       http://he3.magnatune.com/all/04-My%20childhood%20dream-Kourosh%20Zolani.mp3                                  \n",
      "featurespace_id    511                                                                                                          \n",
      "player             <audio src=\"http://localhost:9999/8/kourosh_zolani-peaceful_planet-04-my_childhood_dream-59-88.mp3\" controls>\n",
      "Name: 8501, dtype: object\n"
     ]
    },
    {
     "data": {
      "text/html": [
       "<table border=\"1\" class=\"dataframe\">\n",
       "  <thead>\n",
       "    <tr style=\"text-align: right;\">\n",
       "      <th></th>\n",
       "      <th>artist</th>\n",
       "      <th>title</th>\n",
       "      <th>album</th>\n",
       "      <th>player</th>\n",
       "    </tr>\n",
       "    <tr>\n",
       "      <th>featurespace_id</th>\n",
       "      <th></th>\n",
       "      <th></th>\n",
       "      <th></th>\n",
       "      <th></th>\n",
       "    </tr>\n",
       "  </thead>\n",
       "  <tbody>\n",
       "    <tr>\n",
       "      <th>511</th>\n",
       "      <td>Kourosh Zolani</td>\n",
       "      <td>My childhood dream</td>\n",
       "      <td>Peaceful Planet</td>\n",
       "      <td><audio src=\"http://localhost:9999/8/kourosh_zolani-peaceful_planet-04-my_childhood_dream-59-88.mp3\" controls></td>\n",
       "    </tr>\n",
       "    <tr>\n",
       "      <th>1244</th>\n",
       "      <td>Magnatune Compilation</td>\n",
       "      <td>Kourosh Zolani_ Shabnam</td>\n",
       "      <td>World Fusion</td>\n",
       "      <td><audio src=\"http://localhost:9999/b/magnatune_compilation-world_fusion-11-kourosh_zolani_shabnam-88-117.mp3\" controls></td>\n",
       "    </tr>\n",
       "    <tr>\n",
       "      <th>948</th>\n",
       "      <td>Kourosh Zolani</td>\n",
       "      <td>Butterflies</td>\n",
       "      <td>Peaceful Planet</td>\n",
       "      <td><audio src=\"http://localhost:9999/8/kourosh_zolani-peaceful_planet-08-butterflies-117-146.mp3\" controls></td>\n",
       "    </tr>\n",
       "    <tr>\n",
       "      <th>1061</th>\n",
       "      <td>Kourosh Zolani</td>\n",
       "      <td>Goodbye homeland</td>\n",
       "      <td>Peaceful Planet</td>\n",
       "      <td><audio src=\"http://localhost:9999/8/kourosh_zolani-peaceful_planet-09-goodbye_homeland-291-320.mp3\" controls></td>\n",
       "    </tr>\n",
       "    <tr>\n",
       "      <th>213</th>\n",
       "      <td>Kourosh Zolani</td>\n",
       "      <td>Dandelions</td>\n",
       "      <td>Peaceful Planet</td>\n",
       "      <td><audio src=\"http://localhost:9999/8/kourosh_zolani-peaceful_planet-02-dandelions-146-175.mp3\" controls></td>\n",
       "    </tr>\n",
       "    <tr>\n",
       "      <th>333</th>\n",
       "      <td>Janine Johnson</td>\n",
       "      <td>Variatio 1 a 1 Clav</td>\n",
       "      <td>Bach Goldberg Variations</td>\n",
       "      <td><audio src=\"http://localhost:9999/b/janine_johnson-bach_goldberg_variations-02-variatio_1_a_1_clav-88-117.mp3\" controls></td>\n",
       "    </tr>\n",
       "    <tr>\n",
       "      <th>1079</th>\n",
       "      <td>Tim Rayborn</td>\n",
       "      <td>Khamsa ashra</td>\n",
       "      <td>Ashek</td>\n",
       "      <td><audio src=\"http://localhost:9999/1/tim_rayborn-ashek-09-khamsa_ashra-146-175.mp3\" controls></td>\n",
       "    </tr>\n",
       "    <tr>\n",
       "      <th>628</th>\n",
       "      <td>Jamie Janover and Michael Masley</td>\n",
       "      <td>Mt. Timbral</td>\n",
       "      <td>All Strings Considered</td>\n",
       "      <td><audio src=\"http://localhost:9999/e/jamie_janover_and_michael_masley-all_strings_considered-05-mt__timbral-88-117.mp3\" controls></td>\n",
       "    </tr>\n",
       "    <tr>\n",
       "      <th>1867</th>\n",
       "      <td>Shira Kammen</td>\n",
       "      <td>June Apple</td>\n",
       "      <td>The Almanac</td>\n",
       "      <td><audio src=\"http://localhost:9999/2/shira_kammen-the_almanac-10-june_apple-88-117.mp3\" controls></td>\n",
       "    </tr>\n",
       "    <tr>\n",
       "      <th>285</th>\n",
       "      <td>Jay Kishor</td>\n",
       "      <td>Raga Malgunji - jor</td>\n",
       "      <td>Amber</td>\n",
       "      <td><audio src=\"http://localhost:9999/4/jay_kishor-amber-02-raga_malgunji__jor-30-59.mp3\" controls></td>\n",
       "    </tr>\n",
       "    <tr>\n",
       "      <th>67</th>\n",
       "      <td>Thursday Group</td>\n",
       "      <td>Innocent Murmur</td>\n",
       "      <td>First Album</td>\n",
       "      <td><audio src=\"http://localhost:9999/f/thursday_group-first_album-01-innocent_murmur-320-349.mp3\" controls></td>\n",
       "    </tr>\n",
       "  </tbody>\n",
       "</table>"
      ],
      "text/plain": [
       "<IPython.core.display.HTML object>"
      ]
     },
     "execution_count": 30,
     "metadata": {},
     "output_type": "execute_result"
    }
   ],
   "source": [
    "similar(model, 511)"
   ]
  },
  {
   "cell_type": "markdown",
   "metadata": {},
   "source": [
    "### Evaluate by Example\n",
    "\n",
    "The following function calculated the distances between a given query track and all other tracks of the collection. The result is a list of distances where the smallest distance coresponds with the most similar track. The list is sorted descendingly and the top-ten similar tracks are presented below the information of the query track. The Spotify playlist we created at the beginning will also be updated with the query results. Thus, you can listen to it in your Spotify client."
   ]
  },
  {
   "cell_type": "code",
   "execution_count": 33,
   "metadata": {},
   "outputs": [],
   "source": [
    "def similar(model, query_idx):\n",
    "    \n",
    "\n",
    "    ref_cols = [\"artist\",\"title\",\"album\",\"url\",\"original_url\"]\n",
    "    print(metadata.iloc[query_idx][ref_cols])\n",
    "    \n",
    "    ref_feat = melspecs[[metadata.iloc[query_idx].featurespace_id]]\n",
    "    ref_feat = np.repeat(ref_feat, melspecs.shape[0], axis=0)\n",
    "    \n",
    "    # calclulate predicted distances between query track and all others\n",
    "    res = model.predict([ref_feat, melspecs])\n",
    "\n",
    "    # reshape\n",
    "    res = res.flatten()\n",
    "    \n",
    "    # get sorted indexes in ascending order (smallest distance to query track first)\n",
    "    si = np.argsort(res)\n",
    "    \n",
    "    # output filter\n",
    "    display_cols = [\"artist\", \"title\", \"album\", \"player\"]\n",
    "    \n",
    "    \n",
    "    \n",
    "    return HTML(metadata.set_index(\"featurespace_id\").loc[si[:11]][display_cols].to_html(escape=False))"
   ]
  },
  {
   "cell_type": "markdown",
   "metadata": {},
   "source": [
    "Now let's check the results for some individual tracks by supplying the index to our dataset:"
   ]
  },
  {
   "cell_type": "code",
   "execution_count": 34,
   "metadata": {},
   "outputs": [
    {
     "name": "stdout",
     "output_type": "stream",
     "text": [
      "artist          Magnatune Compilation                                                                                     \n",
      "title           Ehren Starks_ The Tale of Room 620                                                                        \n",
      "album           New Age and Jazz                                                                                          \n",
      "url             http://www.magnatune.com/artists/albums/magnacomp-newage/                                                 \n",
      "original_url    http://he3.magnatune.com/all/01-Ehren%20Starks_%20The%20Tale%20of%20Room%20620-Magnatune%20Compilation.mp3\n",
      "Name: 562, dtype: object\n"
     ]
    },
    {
     "data": {
      "text/html": [
       "<table border=\"1\" class=\"dataframe\">\n",
       "  <thead>\n",
       "    <tr style=\"text-align: right;\">\n",
       "      <th></th>\n",
       "      <th>artist</th>\n",
       "      <th>title</th>\n",
       "      <th>album</th>\n",
       "      <th>player</th>\n",
       "    </tr>\n",
       "    <tr>\n",
       "      <th>featurespace_id</th>\n",
       "      <th></th>\n",
       "      <th></th>\n",
       "      <th></th>\n",
       "      <th></th>\n",
       "    </tr>\n",
       "  </thead>\n",
       "  <tbody>\n",
       "    <tr>\n",
       "      <th>33</th>\n",
       "      <td>Magnatune Compilation</td>\n",
       "      <td>Ehren Starks_ The Tale of Room 620</td>\n",
       "      <td>New Age and Jazz</td>\n",
       "      <td><audio src=\"http://localhost:9999/d/magnatune_compilation-new_age_and_jazz-01-ehren_starks_the_tale_of_room_620-117-146.mp3\" controls></td>\n",
       "    </tr>\n",
       "    <tr>\n",
       "      <th>2671</th>\n",
       "      <td>Paul Avgerinos</td>\n",
       "      <td>Weightless You Are</td>\n",
       "      <td>Words Touch</td>\n",
       "      <td><audio src=\"http://localhost:9999/d/paul_avgerinos-words_touch-06-weightless_you_are-88-117.mp3\" controls></td>\n",
       "    </tr>\n",
       "    <tr>\n",
       "      <th>747</th>\n",
       "      <td>Duo Chambure</td>\n",
       "      <td>Pater Noster (Adriano Willaert)</td>\n",
       "      <td>Vihuela Duets of Valderrabano</td>\n",
       "      <td><audio src=\"http://localhost:9999/2/duo_chambure-vihuela_duets_of_valderrabano-06-pater_noster_adriano_willaert-117-146.mp3\" controls></td>\n",
       "    </tr>\n",
       "    <tr>\n",
       "      <th>982</th>\n",
       "      <td>Jami Sieber</td>\n",
       "      <td>Long Past Gone</td>\n",
       "      <td>Second Sight</td>\n",
       "      <td><audio src=\"http://localhost:9999/4/jami_sieber-second_sight-08-long_past_gone-175-204.mp3\" controls></td>\n",
       "    </tr>\n",
       "    <tr>\n",
       "      <th>1699</th>\n",
       "      <td>Jag</td>\n",
       "      <td>You're Cheatin' On Me</td>\n",
       "      <td>Four Strings</td>\n",
       "      <td><audio src=\"http://localhost:9999/3/jag-four_strings-14-youre_cheatin_on_me-88-117.mp3\" controls></td>\n",
       "    </tr>\n",
       "    <tr>\n",
       "      <th>1530</th>\n",
       "      <td>Vito Paternoster</td>\n",
       "      <td>Sonata Seconda in re minore - Allegro</td>\n",
       "      <td>CD1-Bach Sonatas and Partitas for solo violin</td>\n",
       "      <td><audio src=\"http://localhost:9999/c/vito_paternoster-cd1bach_sonatas_and_partitas_for_solo_violin-16-sonata_seconda_in_re_minore__allegro-146-175.mp3\" controls></td>\n",
       "    </tr>\n",
       "    <tr>\n",
       "      <th>359</th>\n",
       "      <td>Kenji Williams</td>\n",
       "      <td>Buddha Embryo</td>\n",
       "      <td>Worldspirit Soundtrack</td>\n",
       "      <td><audio src=\"http://localhost:9999/8/kenji_williams-worldspirit_soundtrack-03-buddha_embryo-407-436.mp3\" controls></td>\n",
       "    </tr>\n",
       "    <tr>\n",
       "      <th>175</th>\n",
       "      <td>Ehren Starks</td>\n",
       "      <td>The tale of room 620</td>\n",
       "      <td>The Depths of a Year</td>\n",
       "      <td><audio src=\"http://localhost:9999/b/ehren_starks-the_depths_of_a_year-01-the_tale_of_room_620-291-320.mp3\" controls></td>\n",
       "    </tr>\n",
       "    <tr>\n",
       "      <th>2924</th>\n",
       "      <td>Kiev Theological Academy and Seminary Choir</td>\n",
       "      <td>Cherubical hymn</td>\n",
       "      <td>Traditional worship singing of Kiev-Pechersk Lavra</td>\n",
       "      <td><audio src=\"http://localhost:9999/3/kiev_theological_academy_and_seminary_choir-traditional_worship_singing_of_kievpechersk_lavra-19-cherubical_hymn-407-436.mp3\" controls></td>\n",
       "    </tr>\n",
       "    <tr>\n",
       "      <th>1264</th>\n",
       "      <td>Vito Paternoster</td>\n",
       "      <td>Preludio VI</td>\n",
       "      <td>Inzaffirio</td>\n",
       "      <td><audio src=\"http://localhost:9999/3/vito_paternoster-inzaffirio-11-preludio_vi-117-146.mp3\" controls></td>\n",
       "    </tr>\n",
       "    <tr>\n",
       "      <th>440</th>\n",
       "      <td>Vito Paternoster</td>\n",
       "      <td>Suite III in Do maggiore - courante</td>\n",
       "      <td>CD2-Bach Cello Suites</td>\n",
       "      <td><audio src=\"http://localhost:9999/2/vito_paternoster-cd2bach_cello_suites-03-suite_iii_in_do_maggiore__courante-30-59.mp3\" controls></td>\n",
       "    </tr>\n",
       "  </tbody>\n",
       "</table>"
      ],
      "text/plain": [
       "<IPython.core.display.HTML object>"
      ]
     },
     "execution_count": 34,
     "metadata": {},
     "output_type": "execute_result"
    }
   ],
   "source": [
    "similar(model, 33)"
   ]
  }
 ],
 "metadata": {
  "kernelspec": {
   "display_name": "Python 3",
   "language": "python",
   "name": "python3"
  },
  "language_info": {
   "codemirror_mode": {
    "name": "ipython",
    "version": 3
   },
   "file_extension": ".py",
   "mimetype": "text/x-python",
   "name": "python",
   "nbconvert_exporter": "python",
   "pygments_lexer": "ipython3",
   "version": "3.6.6"
  },
  "notify_time": "5",
  "toc": {
   "toc_cell": false,
   "toc_number_sections": true,
   "toc_threshold": 6,
   "toc_window_display": false
  }
 },
 "nbformat": 4,
 "nbformat_minor": 1
}
