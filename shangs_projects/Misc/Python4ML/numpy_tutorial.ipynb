{
 "cells": [
  {
   "cell_type": "code",
   "execution_count": null,
   "metadata": {
    "collapsed": true
   },
   "outputs": [],
   "source": [
    "#import numpy\n",
    "import numpy as np"
   ]
  },
  {
   "cell_type": "code",
   "execution_count": null,
   "metadata": {},
   "outputs": [],
   "source": [
    "#create numpy array\n",
    "x = [[1,2,3],[4,5,6]]\n",
    "x = np.array(x)\n",
    "print(x)"
   ]
  },
  {
   "cell_type": "code",
   "execution_count": null,
   "metadata": {},
   "outputs": [],
   "source": [
    "#array info\n",
    "print(x.shape)\n",
    "print(x.dtype)"
   ]
  },
  {
   "cell_type": "code",
   "execution_count": null,
   "metadata": {},
   "outputs": [],
   "source": [
    "#indexing\n",
    "print(x[0,0])\n",
    "print(x[:,0])\n",
    "print(x[0,:])\n",
    "print(x[0,1:3])"
   ]
  },
  {
   "cell_type": "code",
   "execution_count": null,
   "metadata": {
    "collapsed": true
   },
   "outputs": [],
   "source": [
    "#setting values\n",
    "print(x)\n",
    "x[1,2] = 100\n",
    "print(x)\n",
    "x[1,:] = [101,102,103]\n",
    "print(x)"
   ]
  },
  {
   "cell_type": "code",
   "execution_count": null,
   "metadata": {},
   "outputs": [],
   "source": [
    "#summary statistics\n",
    "x = [[1,2,3],[4,5,6]]\n",
    "x = np.array(x)\n",
    "print(x.mean())\n",
    "print(x.std())\n",
    "print(x.min())\n",
    "print(x.max())"
   ]
  },
  {
   "cell_type": "code",
   "execution_count": null,
   "metadata": {},
   "outputs": [],
   "source": [
    "#statistics for columns and rows\n",
    "print(np.mean(x,0))\n",
    "print(np.mean(x,1))"
   ]
  },
  {
   "cell_type": "code",
   "execution_count": null,
   "metadata": {},
   "outputs": [],
   "source": [
    "#transformations\n",
    "x_transpose = x.T\n",
    "print(x_transpose)\n",
    "\n",
    "x_reshape = x.reshape(3,2)\n",
    "print(x_reshape)"
   ]
  },
  {
   "cell_type": "code",
   "execution_count": null,
   "metadata": {},
   "outputs": [],
   "source": [
    "#other ways to intialize arrays\n",
    "ones = np.ones(shape=(3,5))\n",
    "print(ones)\n",
    "\n",
    "zeros = np.zeros(shape=(3,5))\n",
    "print(zeros)\n",
    "\n",
    "random =  np.random.rand(3,5)\n",
    "print(random)\n",
    "\n",
    "rand_ints = np.random.randint(low=0,high=10,size=(3,5))\n",
    "print(rand_ints)\n",
    "\n",
    "seq = np.arange(start=0,stop=3,step=0.5)\n",
    "print(seq)"
   ]
  },
  {
   "cell_type": "code",
   "execution_count": null,
   "metadata": {},
   "outputs": [],
   "source": [
    "#operations\n",
    "a = np.arange(0,10).reshape(2,5)\n",
    "b = np.arange(5,15).reshape(2,5) \n",
    "elem_sum = a + b\n",
    "print(elem_sum)\n",
    "\n",
    "print(a + 1)\n",
    "print(a + np.random.rand(2,1))\n",
    "print(a + np.random.rand(1,5))\n",
    "\n",
    "elem_product = a * b\n",
    "print(elem_product)\n",
    "\n",
    "print(a * 2)\n",
    "\n",
    "dot = np.dot(a, b.T)\n",
    "print(dot)"
   ]
  },
  {
   "cell_type": "code",
   "execution_count": null,
   "metadata": {},
   "outputs": [],
   "source": [
    "#normalize\n",
    "x = np.random.rand(3,5)\n",
    "x -= np.mean(x,0)\n",
    "x /= np.std(x,0)\n",
    "print(x)\n",
    "print(np.mean(x,0),np.std(x,0))"
   ]
  },
  {
   "cell_type": "code",
   "execution_count": null,
   "metadata": {},
   "outputs": [],
   "source": [
    "#concatenating arrays\n",
    "a = np.zeros((2,5))\n",
    "b = np.ones((2,5))\n",
    "c = np.ones((2,5)) * 2\n",
    "print(np.vstack((a,b,c)))\n",
    "print(np.vstack((c,b,a)))\n",
    "print(np.hstack((a,b,c)))\n",
    "print(np.hstack((c,b,a)))\n",
    "print(np.concatenate((a,b,c),axis=0))\n",
    "print(np.concatenate((a,b,c),axis=1))"
   ]
  },
  {
   "cell_type": "code",
   "execution_count": null,
   "metadata": {},
   "outputs": [],
   "source": [
    "#filtering and masking\n",
    "a = np.random.rand(20)\n",
    "print(a)\n",
    "filter = a > 0.5\n",
    "print(filter)\n",
    "print(a[filter])"
   ]
  },
  {
   "cell_type": "code",
   "execution_count": null,
   "metadata": {
    "collapsed": true
   },
   "outputs": [],
   "source": []
  },
  {
   "cell_type": "code",
   "execution_count": null,
   "metadata": {
    "collapsed": true
   },
   "outputs": [],
   "source": []
  }
 ],
 "metadata": {
  "kernelspec": {
   "display_name": "Python 3",
   "language": "python",
   "name": "python3"
  },
  "language_info": {
   "codemirror_mode": {
    "name": "ipython",
    "version": 3
   },
   "file_extension": ".py",
   "mimetype": "text/x-python",
   "name": "python",
   "nbconvert_exporter": "python",
   "pygments_lexer": "ipython3",
   "version": "3.6.2"
  }
 },
 "nbformat": 4,
 "nbformat_minor": 2
}
