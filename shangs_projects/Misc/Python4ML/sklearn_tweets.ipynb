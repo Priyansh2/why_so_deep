{
 "cells": [
  {
   "cell_type": "code",
   "execution_count": null,
   "metadata": {
    "collapsed": true
   },
   "outputs": [],
   "source": [
    "import pandas as pd\n",
    "import numpy as np\n",
    "from sklearn.feature_extraction.text import TfidfVectorizer\n",
    "from sklearn.preprocessing import LabelEncoder\n",
    "from sklearn.model_selection import train_test_split\n",
    "from sklearn.feature_selection import SelectFromModel\n",
    "from sklearn.naive_bayes import MultinomialNB\n",
    "from sklearn.linear_model import LogisticRegression\n",
    "from sklearn.ensemble import RandomForestClassifier, ExtraTreesClassifier"
   ]
  },
  {
   "cell_type": "code",
   "execution_count": null,
   "metadata": {},
   "outputs": [],
   "source": [
    "#import data\n",
    "data = pd.read_csv('airline_tweets.csv')\n",
    "print(data)"
   ]
  },
  {
   "cell_type": "code",
   "execution_count": null,
   "metadata": {},
   "outputs": [],
   "source": [
    "#show one column\n",
    "print(data['text'])"
   ]
  },
  {
   "cell_type": "code",
   "execution_count": null,
   "metadata": {},
   "outputs": [],
   "source": [
    "#show two columns\n",
    "print(data[['text','airline_sentiment']])"
   ]
  },
  {
   "cell_type": "code",
   "execution_count": null,
   "metadata": {},
   "outputs": [],
   "source": [
    "#show one record\n",
    "print(data.loc[0,:])"
   ]
  },
  {
   "cell_type": "code",
   "execution_count": null,
   "metadata": {},
   "outputs": [],
   "source": [
    "#show some more records\n",
    "print(data.loc[0:5,:])"
   ]
  },
  {
   "cell_type": "code",
   "execution_count": null,
   "metadata": {},
   "outputs": [],
   "source": [
    "#show one column of one record\n",
    "print(data.loc[0,'text'])"
   ]
  },
  {
   "cell_type": "code",
   "execution_count": null,
   "metadata": {},
   "outputs": [],
   "source": [
    "#select columns\n",
    "data = data[['tweet_id','text','airline_sentiment','airline']]\n",
    "print(data)"
   ]
  },
  {
   "cell_type": "code",
   "execution_count": null,
   "metadata": {},
   "outputs": [],
   "source": [
    "#convert sentiment into numbers\n",
    "def sentiment2int(sentiment):\n",
    "    if sentiment == 'positive':\n",
    "        return 1\n",
    "    elif sentiment == 'neutral':\n",
    "        return 0\n",
    "    elif sentiment == 'negative':\n",
    "        return -1\n",
    "    else:\n",
    "        return np.NaN\n",
    "\n",
    "data['rating'] = data['airline_sentiment'].apply(sentiment2int)\n",
    "print(data)"
   ]
  },
  {
   "cell_type": "code",
   "execution_count": null,
   "metadata": {},
   "outputs": [],
   "source": [
    "#alternatively, use encoder\n",
    "encoder = LabelEncoder()\n",
    "encoder.fit(data['airline_sentiment'])\n",
    "data['encoded'] = encoder.transform(data['airline_sentiment'])\n",
    "print(data)"
   ]
  },
  {
   "cell_type": "code",
   "execution_count": null,
   "metadata": {},
   "outputs": [],
   "source": [
    "#average sentiment of airlines\n",
    "filter = data['airline'] == 'Virgin America'\n",
    "virgin = data[filter]\n",
    "print(virgin['rating'].mean())"
   ]
  },
  {
   "cell_type": "code",
   "execution_count": null,
   "metadata": {},
   "outputs": [],
   "source": [
    "#tfidf\n",
    "vectorizer = TfidfVectorizer(min_df=3, stop_words='english',ngram_range=(1, 2))\n",
    "vectorizer.fit(data['text'])\n",
    "X = vectorizer.transform(data['text'])\n",
    "\n",
    "#get labels\n",
    "y = np.array(data['rating'])\n",
    "\n",
    "print(X)\n",
    "print(X.shape)\n",
    "print(y)\n",
    "print(y.shape)"
   ]
  },
  {
   "cell_type": "code",
   "execution_count": null,
   "metadata": {},
   "outputs": [],
   "source": [
    "#test train split\n",
    "X_train, X_test, y_train, y_test = train_test_split(X, y, test_size=0.1, stratify=y, random_state=1234)\n",
    "print(X_train.shape)\n",
    "print(X_test.shape)"
   ]
  },
  {
   "cell_type": "code",
   "execution_count": null,
   "metadata": {},
   "outputs": [],
   "source": [
    "#naive bayes\n",
    "nb = MultinomialNB()\n",
    "nb.fit(X_train,y_train)\n",
    "print(nb.score(X_test,y_test))\n",
    "nb_preds = nb.predict(X_test)\n",
    "print(nb_preds)"
   ]
  },
  {
   "cell_type": "code",
   "execution_count": null,
   "metadata": {
    "collapsed": true
   },
   "outputs": [],
   "source": [
    "#logistic regression\n",
    "lr = LogisticRegression(penalty='l1',C=1)\n",
    "lr.fit(X_train,y_train)\n",
    "print(lr.score(X_test,y_test))\n",
    "lr_preds = lr.predict(X_test)\n",
    "print(lr_preds)"
   ]
  },
  {
   "cell_type": "code",
   "execution_count": null,
   "metadata": {
    "collapsed": true
   },
   "outputs": [],
   "source": [
    "#random forest\n",
    "rf = RandomForestClassifier(n_estimators=100)\n",
    "rf.fit(X_train,y_train)\n",
    "print(rf.score(X_test,y_test))\n",
    "rf_preds = rf.predict(X_test)\n",
    "print(rf_preds)"
   ]
  }
 ],
 "metadata": {
  "kernelspec": {
   "display_name": "Python 3",
   "language": "python",
   "name": "python3"
  },
  "language_info": {
   "codemirror_mode": {
    "name": "ipython",
    "version": 3
   },
   "file_extension": ".py",
   "mimetype": "text/x-python",
   "name": "python",
   "nbconvert_exporter": "python",
   "pygments_lexer": "ipython3",
   "version": "3.6.2"
  }
 },
 "nbformat": 4,
 "nbformat_minor": 2
}
