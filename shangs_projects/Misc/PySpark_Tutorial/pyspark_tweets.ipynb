{
 "cells": [
  {
   "cell_type": "code",
   "execution_count": null,
   "metadata": {
    "collapsed": true
   },
   "outputs": [],
   "source": [
    "from pyspark.sql import SparkSession\n",
    "from pyspark.sql import Column\n",
    "from pyspark.sql.types import *\n",
    "from pyspark.sql.functions import udf\n",
    "from pyspark.ml.feature import HashingTF, IDF, Tokenizer, NGram, ChiSqSelector\n",
    "from pyspark.ml.classification import NaiveBayes, RandomForestClassifier\n",
    "from nltk.corpus import stopwords\n",
    "from nltk.stem.snowball import SnowballStemmer\n",
    "import re"
   ]
  },
  {
   "cell_type": "code",
   "execution_count": null,
   "metadata": {
    "collapsed": true
   },
   "outputs": [],
   "source": [
    "#start spark session\n",
    "spark = SparkSession\\\n",
    "        .builder\\\n",
    "        .appName(\"TweetClassification\")\\\n",
    "        .getOrCreate()"
   ]
  },
  {
   "cell_type": "code",
   "execution_count": null,
   "metadata": {},
   "outputs": [],
   "source": [
    "#import csv\n",
    "df = spark.read.csv(\"airline_tweets.csv\",header=True,inferSchema=True)"
   ]
  },
  {
   "cell_type": "code",
   "execution_count": null,
   "metadata": {},
   "outputs": [],
   "source": [
    "#show dataframe\n",
    "df.show()\n",
    "\n",
    "#count total records\n",
    "print(\"total records:\", df.count())\n",
    "\n",
    "#show schema\n",
    "df.printSchema()\n",
    "\n",
    "#show one column\n",
    "df.select('text').show(n=5,truncate=False)\n",
    "\n",
    "#show one record\n",
    "df.where(df['tweet_id'] == '570306133677760513').show()"
   ]
  },
  {
   "cell_type": "code",
   "execution_count": null,
   "metadata": {
    "scrolled": true
   },
   "outputs": [],
   "source": [
    "#casting\n",
    "df = df.withColumn(\"airline_sentiment_confidence\", df[\"airline_sentiment_confidence\"].cast(\"float\"))\n",
    "df = df.withColumn(\"negativereason_confidence\", df[\"negativereason_confidence\"].cast(\"float\"))\n",
    "df.printSchema()"
   ]
  },
  {
   "cell_type": "code",
   "execution_count": null,
   "metadata": {},
   "outputs": [],
   "source": [
    "#remove rows missing rating or tweets\n",
    "print(\"total records:\", df.count())\n",
    "df = df.where(df['airline_sentiment'].isNotNull())\n",
    "print(\"records with sentiment:\", df.count())\n",
    "df = df.where(df['text'].isNotNull())\n",
    "print(\"records with sentiment and tweet text:\", df.count())"
   ]
  },
  {
   "cell_type": "code",
   "execution_count": null,
   "metadata": {},
   "outputs": [],
   "source": [
    "#rearrange or drop columns\n",
    "reduced_df = df.select(\"tweet_id\",\"text\",\"airline_sentiment\",\"airline\")\n",
    "reduced_df.show()\n",
    "reduced_df.printSchema()"
   ]
  },
  {
   "cell_type": "code",
   "execution_count": null,
   "metadata": {},
   "outputs": [],
   "source": [
    "#user defined functions\n",
    "def label_encoder(sentiment):\n",
    "    if sentiment == 'positive':\n",
    "        return 1\n",
    "    elif sentiment == 'negative':\n",
    "        return -1\n",
    "    elif sentiment == 'neutral':\n",
    "        return 0\n",
    "    else:\n",
    "        raise Exception('invalid sentiment')\n",
    "label_encoder_udf = udf(label_encoder, IntegerType())\n",
    "reduced_df = reduced_df.withColumn(\"airline_sentiment\", label_encoder_udf(\"airline_sentiment\"))\n",
    "reduced_df.show()\n",
    "reduced_df.printSchema()"
   ]
  },
  {
   "cell_type": "code",
   "execution_count": null,
   "metadata": {},
   "outputs": [],
   "source": [
    "#summary statistics\n",
    "reduced_df.filter(reduced_df['airline'] == 'Virgin America').show()\n",
    "virgin_count = reduced_df.filter(reduced_df['airline'] == 'Virgin America').count()\n",
    "print(\"Virgin American Tweets:\", virgin_count)\n",
    "\n",
    "reduced_df.filter(reduced_df['airline'] == 'Virgin America').agg({\"airline_sentiment\": \"avg\"}).show()\n",
    "reduced_df.groupBy(\"airline\").count().show()\n",
    "reduced_df.groupBy(\"airline\").agg({\"airline_sentiment\": \"avg\"}).show()"
   ]
  },
  {
   "cell_type": "code",
   "execution_count": null,
   "metadata": {},
   "outputs": [],
   "source": [
    "#remove neutral tweets\n",
    "print(\"before removing neutral tweets:\", reduced_df.count())\n",
    "reduced_df = reduced_df.where(reduced_df['airline_sentiment'] != 0)\n",
    "print(\"after removing neutral tweets:\", reduced_df.count())\n",
    "def label_encoder(sentiment):\n",
    "    if sentiment == 1:\n",
    "        return 1\n",
    "    elif sentiment == -1:\n",
    "        return 0\n",
    "label_encoder_udf = udf(label_encoder, IntegerType())\n",
    "reduced_df = reduced_df.withColumn(\"airline_sentiment\", label_encoder_udf(\"airline_sentiment\"))\n",
    "reduced_df.show()"
   ]
  },
  {
   "cell_type": "code",
   "execution_count": null,
   "metadata": {},
   "outputs": [],
   "source": [
    "#count positive and negative tweets\n",
    "positive = reduced_df.where(reduced_df['airline_sentiment'] == 1).count()\n",
    "negative = reduced_df.where(reduced_df['airline_sentiment'] == 0).count()\n",
    "print(\"positive reviews:\", positive)\n",
    "print(\"negative reviews:\", negative)\n",
    "print(\"baseline score:\", negative/(positive+negative))"
   ]
  },
  {
   "cell_type": "code",
   "execution_count": null,
   "metadata": {},
   "outputs": [],
   "source": [
    "#clean text\n",
    "def clean(text):\n",
    "    text = text.lower()\n",
    "    text = re.sub(\"'\", '', text)\n",
    "    text = re.sub('[^\\w_]+', ' ', text)\n",
    "    return text.lstrip()\n",
    "    \n",
    "clean_udf = udf(clean, StringType())\n",
    "reduced_df = reduced_df.withColumn(\"clean_text\", clean_udf(\"text\"))\n",
    "reduced_df.show()"
   ]
  },
  {
   "cell_type": "code",
   "execution_count": null,
   "metadata": {},
   "outputs": [],
   "source": [
    "#tokenize words\n",
    "tokenizer = Tokenizer(inputCol=\"clean_text\", outputCol=\"tokens\")\n",
    "reduced_df = tokenizer.transform(reduced_df)\n",
    "reduced_df.show()\n",
    "reduced_df.printSchema()"
   ]
  },
  {
   "cell_type": "code",
   "execution_count": null,
   "metadata": {},
   "outputs": [],
   "source": [
    "#stop and stem\n",
    "stopwords = set(stopwords.words('english'))\n",
    "stemmer = SnowballStemmer(\"english\")\n",
    "def stop_stem(tokens):\n",
    "    stemmed = [stemmer.stem(word) for word in tokens if word not in stopwords]\n",
    "    return stemmed\n",
    "\n",
    "stop_stem_udf = udf(stop_stem, ArrayType(StringType()))\n",
    "reduced_df = reduced_df.withColumn(\"tokens\", stop_stem_udf(\"tokens\"))\n",
    "reduced_df.show()\n",
    "reduced_df.printSchema()"
   ]
  },
  {
   "cell_type": "code",
   "execution_count": null,
   "metadata": {},
   "outputs": [],
   "source": [
    "#tfidf\n",
    "hashingTF = HashingTF(inputCol=\"tokens\", outputCol=\"term_freq\")\n",
    "reduced_df = hashingTF.transform(reduced_df)\n",
    "reduced_df.show()\n",
    "idf = IDF(inputCol=\"term_freq\", outputCol=\"tfidf\", minDocFreq=5)\n",
    "idfModel = idf.fit(reduced_df)\n",
    "reduced_df = idfModel.transform(reduced_df)\n",
    "reduced_df.show()"
   ]
  },
  {
   "cell_type": "code",
   "execution_count": null,
   "metadata": {},
   "outputs": [],
   "source": [
    "#test train split\n",
    "train,test = reduced_df.select(\"tweet_id\",\"tfidf\",\"airline_sentiment\").randomSplit([0.8, 0.2],seed=1234)\n",
    "print(\"train samples:\", train.count())\n",
    "print(\"test samples:\",test.count())"
   ]
  },
  {
   "cell_type": "code",
   "execution_count": null,
   "metadata": {},
   "outputs": [],
   "source": [
    "#apply naive bayes\n",
    "nb = NaiveBayes(featuresCol=\"tfidf\", labelCol=\"airline_sentiment\", predictionCol=\"NB_pred\",\n",
    "                probabilityCol=\"NB_prob\", rawPredictionCol=\"NB_rawPred\")\n",
    "nbModel = nb.fit(train)\n",
    "test = nbModel.transform(test)\n",
    "test.show()\n",
    "\n",
    "#get test accuracy\n",
    "total = test.count()\n",
    "correct = test.where(test['airline_sentiment'] == test['NB_pred']).count()\n",
    "print(\"naive bayes unigrams test accuracy:\", correct/total)"
   ]
  },
  {
   "cell_type": "code",
   "execution_count": null,
   "metadata": {},
   "outputs": [],
   "source": [
    "#try bigrams\n",
    "reduced_df = reduced_df.select(\"tweet_id\",\"airline_sentiment\",\"tokens\")\n",
    "ngram = NGram(n=2, inputCol=\"tokens\", outputCol=\"ngrams\")\n",
    "reduced_df = ngram.transform(reduced_df)\n",
    "reduced_df.show()\n",
    "\n",
    "#rerun tfidf\n",
    "hashingTF = HashingTF(inputCol=\"ngrams\", outputCol=\"term_freq\")\n",
    "reduced_df = hashingTF.transform(reduced_df)\n",
    "reduced_df.show()\n",
    "idf = IDF(inputCol=\"term_freq\", outputCol=\"tfidf\", minDocFreq=5)\n",
    "idfModel = idf.fit(reduced_df)\n",
    "reduced_df = idfModel.transform(reduced_df)\n",
    "reduced_df.show()\n",
    "\n",
    "#rerun test train split (using same seed)\n",
    "train,test = reduced_df.select(\"tweet_id\",\"tfidf\",\"airline_sentiment\").randomSplit([0.8, 0.2],seed=1234)\n",
    "\n",
    "#rerun naive bayes\n",
    "nb = NaiveBayes(featuresCol=\"tfidf\", labelCol=\"airline_sentiment\", predictionCol=\"NB_pred\",\n",
    "                probabilityCol=\"NB_prob\", rawPredictionCol=\"NB_rawPred\")\n",
    "nbModel = nb.fit(train)\n",
    "test = nbModel.transform(test)\n",
    "test.show()\n",
    "\n",
    "#test accuracy\n",
    "total = test.count()\n",
    "correct = test.where(test['airline_sentiment'] == test['NB_pred']).count()\n",
    "print(\"naive bayes bigrams test accuracy:\", correct/total)"
   ]
  },
  {
   "cell_type": "code",
   "execution_count": null,
   "metadata": {
    "collapsed": true
   },
   "outputs": [],
   "source": [
    "#close spark\n",
    "spark.stop()"
   ]
  },
  {
   "cell_type": "code",
   "execution_count": null,
   "metadata": {
    "collapsed": true
   },
   "outputs": [],
   "source": []
  }
 ],
 "metadata": {
  "kernelspec": {
   "display_name": "Python 3",
   "language": "python",
   "name": "python3"
  },
  "language_info": {
   "codemirror_mode": {
    "name": "ipython",
    "version": 3
   },
   "file_extension": ".py",
   "mimetype": "text/x-python",
   "name": "python",
   "nbconvert_exporter": "python",
   "pygments_lexer": "ipython3",
   "version": "3.6.2"
  }
 },
 "nbformat": 4,
 "nbformat_minor": 2
}
